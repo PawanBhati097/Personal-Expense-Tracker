{
 "cells": [
  {
   "cell_type": "code",
   "execution_count": 1,
   "id": "bfa134bd-a9d4-411a-afb7-bce55ca9c1c6",
   "metadata": {},
   "outputs": [
    {
     "name": "stdout",
     "output_type": "stream",
     "text": [
      "\n",
      "Personal Expense Tracker Menu:\n",
      "1. Add an expense\n",
      "2. View summaries\n",
      "3. Exit the program\n"
     ]
    },
    {
     "name": "stdin",
     "output_type": "stream",
     "text": [
      "Enter your choice:  1\n",
      "Enter the amount: $ 200\n",
      "Enter the category:  grocery\n"
     ]
    },
    {
     "name": "stdout",
     "output_type": "stream",
     "text": [
      "Expense added successfully!\n",
      "\n",
      "Personal Expense Tracker Menu:\n",
      "1. Add an expense\n",
      "2. View summaries\n",
      "3. Exit the program\n"
     ]
    },
    {
     "name": "stdin",
     "output_type": "stream",
     "text": [
      "Enter your choice:  1\n",
      "Enter the amount: $ 100\n",
      "Enter the category:  cloths\n"
     ]
    },
    {
     "name": "stdout",
     "output_type": "stream",
     "text": [
      "Expense added successfully!\n",
      "\n",
      "Personal Expense Tracker Menu:\n",
      "1. Add an expense\n",
      "2. View summaries\n",
      "3. Exit the program\n"
     ]
    },
    {
     "name": "stdin",
     "output_type": "stream",
     "text": [
      "Enter your choice:  1\n",
      "Enter the amount: $ 300\n",
      "Enter the category:  food\n"
     ]
    },
    {
     "name": "stdout",
     "output_type": "stream",
     "text": [
      "Expense added successfully!\n",
      "\n",
      "Personal Expense Tracker Menu:\n",
      "1. Add an expense\n",
      "2. View summaries\n",
      "3. Exit the program\n"
     ]
    },
    {
     "name": "stdin",
     "output_type": "stream",
     "text": [
      "Enter your choice:  2\n"
     ]
    },
    {
     "name": "stdout",
     "output_type": "stream",
     "text": [
      "Total overall spending: $600.00\n",
      "Total spending for grocery: $200.00\n",
      "Total spending for cloths: $100.00\n",
      "Total spending for food: $300.00\n",
      "Total spending for 2024-10-14: $600.00\n",
      "\n",
      "Personal Expense Tracker Menu:\n",
      "1. Add an expense\n",
      "2. View summaries\n",
      "3. Exit the program\n"
     ]
    },
    {
     "name": "stdin",
     "output_type": "stream",
     "text": [
      "Enter your choice:  3\n"
     ]
    },
    {
     "name": "stdout",
     "output_type": "stream",
     "text": [
      "Exiting the program. Goodbye!\n"
     ]
    }
   ],
   "source": [
    "import csv\n",
    "import datetime\n",
    "\n",
    "# Expense data structure\n",
    "expenses = []\n",
    "\n",
    "# Load existing expenses from file\n",
    "def load_expenses(filename):\n",
    "    global expenses\n",
    "    try:\n",
    "        with open(filename, 'r') as file:\n",
    "            reader = csv.reader(file)\n",
    "            for row in reader:\n",
    "                expense = {\n",
    "                    'amount': float(row[0]),\n",
    "                    'category': row[1],\n",
    "                    'date': datetime.datetime.strptime(row[2], '%Y-%m-%d')\n",
    "                }\n",
    "                expenses.append(expense)\n",
    "    except FileNotFoundError:\n",
    "        pass\n",
    "\n",
    "# Save expenses to file\n",
    "def save_expenses(filename):\n",
    "    with open(filename, 'w', newline='') as file:\n",
    "        writer = csv.writer(file)\n",
    "        for expense in expenses:\n",
    "            writer.writerow([expense['amount'], expense['category'], expense['date'].strftime('%Y-%m-%d')])\n",
    "\n",
    "# Add an expense\n",
    "def add_expense():\n",
    "    amount = float(input(\"Enter the amount: $\"))\n",
    "    category = input(\"Enter the category: \")\n",
    "    date = datetime.datetime.now()\n",
    "    expense = {\n",
    "        'amount': amount,\n",
    "        'category': category,\n",
    "        'date': date\n",
    "    }\n",
    "    expenses.append(expense)\n",
    "    print(\"Expense added successfully!\")\n",
    "\n",
    "# View summaries\n",
    "def view_summaries():\n",
    "    total_spending = sum(expense['amount'] for expense in expenses)\n",
    "    print(f\"Total overall spending: ${total_spending:.2f}\")\n",
    "    \n",
    "    categories = {}\n",
    "    for expense in expenses:\n",
    "        if expense['category'] not in categories:\n",
    "            categories[expense['category']] = 0\n",
    "        categories[expense['category']] += expense['amount']\n",
    "    for category, amount in categories.items():\n",
    "        print(f\"Total spending for {category}: ${amount:.2f}\")\n",
    "\n",
    "    daily_spending = {}\n",
    "    for expense in expenses:\n",
    "        date = expense['date'].date()\n",
    "        if date not in daily_spending:\n",
    "            daily_spending[date] = 0\n",
    "        daily_spending[date] += expense['amount']\n",
    "    for date, amount in daily_spending.items():\n",
    "        print(f\"Total spending for {date}: ${amount:.2f}\")\n",
    "\n",
    "# Main program\n",
    "def main():\n",
    "    load_expenses('expenses.csv')\n",
    "    \n",
    "    while True:\n",
    "        print(\"\\nPersonal Expense Tracker Menu:\")\n",
    "        print(\"1. Add an expense\")\n",
    "        print(\"2. View summaries\")\n",
    "        print(\"3. Exit the program\")\n",
    "        choice = input(\"Enter your choice: \")\n",
    "        \n",
    "        if choice == \"1\":\n",
    "            add_expense()\n",
    "        elif choice == \"2\":\n",
    "            view_summaries()\n",
    "        elif choice == \"3\":\n",
    "            save_expenses('expenses.csv')\n",
    "            print(\"Exiting the program. Goodbye!\")\n",
    "            break\n",
    "        else:\n",
    "            print(\"Invalid choice. Please try again.\")\n",
    "\n",
    "if __name__ == \"__main__\":\n",
    "    main()"
   ]
  },
  {
   "cell_type": "code",
   "execution_count": null,
   "id": "1c5d0c0d-1f88-46dd-82c1-eb4cef444d5f",
   "metadata": {},
   "outputs": [],
   "source": []
  }
 ],
 "metadata": {
  "kernelspec": {
   "display_name": "Python 3 (ipykernel)",
   "language": "python",
   "name": "python3"
  },
  "language_info": {
   "codemirror_mode": {
    "name": "ipython",
    "version": 3
   },
   "file_extension": ".py",
   "mimetype": "text/x-python",
   "name": "python",
   "nbconvert_exporter": "python",
   "pygments_lexer": "ipython3",
   "version": "3.12.4"
  }
 },
 "nbformat": 4,
 "nbformat_minor": 5
}
